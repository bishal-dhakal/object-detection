{
 "cells": [
  {
   "cell_type": "code",
   "execution_count": null,
   "id": "89954616",
   "metadata": {},
   "outputs": [],
   "source": []
  },
  {
   "cell_type": "code",
   "execution_count": 1,
   "id": "cc7d8d36",
   "metadata": {},
   "outputs": [],
   "source": [
    "import cv2\n",
    "import uuid\n",
    "import os\n",
    "import time"
   ]
  },
  {
   "cell_type": "code",
   "execution_count": 3,
   "id": "b5305288",
   "metadata": {},
   "outputs": [],
   "source": [
    "labels =['thumbs','thumbsdown','thankyou','livelong']\n",
    "number_imgs=5"
   ]
  },
  {
   "cell_type": "code",
   "execution_count": 4,
   "id": "0b66e123",
   "metadata": {},
   "outputs": [],
   "source": [
    "IMAGES_PATH= os.path.join('Tensorflow','workspace','images','collectedimages')"
   ]
  },
  {
   "cell_type": "code",
   "execution_count": 5,
   "id": "76d33acd",
   "metadata": {},
   "outputs": [],
   "source": [
    "if not os.path.exists(IMAGES_PATH):\n",
    "    if os.name =='posix':\n",
    "        !mkdir -p {IMAGES_PATH}\n",
    "    if os.name =='nt':\n",
    "        !mkdir {IMAGES_PATH}\n",
    "for label in labels:\n",
    "    path = os.path.join(IMAGES_PATH, label)\n",
    "    if not os.path.exists(path):\n",
    "        !mkdir {path}"
   ]
  },
  {
   "cell_type": "code",
   "execution_count": 7,
   "id": "e6503608",
   "metadata": {},
   "outputs": [
    {
     "name": "stdout",
     "output_type": "stream",
     "text": [
      "Collecting images for thumbs\n",
      "collecting image 0\n",
      "collecting image 1\n",
      "collecting image 2\n",
      "collecting image 3\n",
      "collecting image 4\n",
      "Collecting images for thumbsdown\n",
      "collecting image 0\n",
      "collecting image 1\n",
      "collecting image 2\n",
      "collecting image 3\n",
      "collecting image 4\n",
      "Collecting images for thankyou\n",
      "collecting image 0\n",
      "collecting image 1\n",
      "collecting image 2\n",
      "collecting image 3\n",
      "collecting image 4\n",
      "Collecting images for livelong\n",
      "collecting image 0\n",
      "collecting image 1\n",
      "collecting image 2\n",
      "collecting image 3\n",
      "collecting image 4\n"
     ]
    }
   ],
   "source": [
    "for label in labels:\n",
    "    cap =cv2.VideoCapture(0) ##connect our webcam\n",
    "    print('Collecting images for {}'.format(label))\n",
    "    time.sleep(5)\n",
    "    for imgnum in range(number_imgs):\n",
    "        print('collecting image {}'.format(imgnum))\n",
    "        ret, frame =cap.read()\n",
    "        imgname= os.path.join(IMAGES_PATH,label,label+'.'+'{}.jpg'.format(str(uuid.uuid1())))\n",
    "        cv2.imwrite(imgname,frame)\n",
    "        cv2.imshow('frame',frame)\n",
    "        time.sleep(2)\n",
    "        \n",
    "        if cv2.waitKey(1) & 0xFF =='q':\n",
    "            break\n",
    "cap.release()\n",
    "cv2.destroyAllWindows()"
   ]
  },
  {
   "cell_type": "markdown",
   "id": "c235f429",
   "metadata": {},
   "source": [
    "# Label Image"
   ]
  },
  {
   "cell_type": "code",
   "execution_count": 8,
   "id": "273aecc7",
   "metadata": {},
   "outputs": [
    {
     "name": "stdout",
     "output_type": "stream",
     "text": [
      "Collecting pyqt5\n",
      "  Downloading PyQt5-5.15.7-cp37-abi3-win_amd64.whl (6.8 MB)\n",
      "     ---------------------------------------- 6.8/6.8 MB 1.9 MB/s eta 0:00:00\n",
      "Collecting lxml\n",
      "  Downloading lxml-4.9.2-cp39-cp39-win_amd64.whl (3.9 MB)\n",
      "     ---------------------------------------- 3.9/3.9 MB 2.0 MB/s eta 0:00:00\n",
      "Collecting PyQt5-Qt5>=5.15.0\n",
      "  Downloading PyQt5_Qt5-5.15.2-py3-none-win_amd64.whl (50.1 MB)\n",
      "     ---------------------------------------- 50.1/50.1 MB 1.8 MB/s eta 0:00:00\n",
      "Collecting PyQt5-sip<13,>=12.11\n",
      "  Downloading PyQt5_sip-12.11.0-cp39-cp39-win_amd64.whl (78 kB)\n",
      "     ---------------------------------------- 78.3/78.3 kB 2.2 MB/s eta 0:00:00\n",
      "Installing collected packages: PyQt5-Qt5, PyQt5-sip, lxml, pyqt5\n",
      "Successfully installed PyQt5-Qt5-5.15.2 PyQt5-sip-12.11.0 lxml-4.9.2 pyqt5-5.15.7\n"
     ]
    }
   ],
   "source": [
    "!pip install --upgrade pyqt5 lxml"
   ]
  },
  {
   "cell_type": "code",
   "execution_count": 9,
   "id": "fe6cd6f3",
   "metadata": {},
   "outputs": [],
   "source": [
    "LABELING_PATH = os.path.join('Tensorflow','labelimg')"
   ]
  },
  {
   "cell_type": "code",
   "execution_count": 11,
   "id": "f74417ca",
   "metadata": {},
   "outputs": [
    {
     "name": "stderr",
     "output_type": "stream",
     "text": [
      "Cloning into 'Tensorflow\\labelimg'...\n"
     ]
    }
   ],
   "source": [
    "if not os.path.exists(LABELING_PATH):\n",
    "    !mkdir {LABELING_PATH}\n",
    "    !git clone https://github.com/heartexlabs/labelImg {LABELING_PATH}"
   ]
  },
  {
   "cell_type": "code",
   "execution_count": 13,
   "id": "6efe0daa",
   "metadata": {},
   "outputs": [],
   "source": [
    "if os.name =='posix':\n",
    "    !cd {LABELING_PATH} && make qt5py3\n",
    "if os.name=='nt':\n",
    "    !cd {LABELING_PATH} && pyrcc5 -o libs/resources.py resources.qrc"
   ]
  },
  {
   "cell_type": "code",
   "execution_count": 14,
   "id": "53db18c5",
   "metadata": {},
   "outputs": [
    {
     "name": "stdout",
     "output_type": "stream",
     "text": [
      "Image:C:\\Users\\97798\\Downloads\\ODproject\\Tensorflow\\workspace\\images\\collectedimages\\livelong\\livelong.00eb7cc4-8292-11ed-b710-9ecacd5d4c57.jpg -> Annotation:C:/Users/97798/Downloads/ODproject/Tensorflow/workspace/images/collectedimages/livelong\\livelong.00eb7cc4-8292-11ed-b710-9ecacd5d4c57.xml\n",
      "Cancel creation.\n",
      "Image:C:\\Users\\97798\\Downloads\\ODproject\\Tensorflow\\workspace\\images\\collectedimages\\livelong\\livelong.fc10ea5d-8291-11ed-be5e-9ecacd5d4c57.jpg -> Annotation:C:/Users/97798/Downloads/ODproject/Tensorflow/workspace/images/collectedimages/livelong\\livelong.fc10ea5d-8291-11ed-be5e-9ecacd5d4c57.xml\n",
      "Image:C:\\Users\\97798\\Downloads\\ODproject\\Tensorflow\\workspace\\images\\collectedimages\\livelong\\livelong.fd489919-8291-11ed-96da-9ecacd5d4c57.jpg -> Annotation:C:/Users/97798/Downloads/ODproject/Tensorflow/workspace/images/collectedimages/livelong\\livelong.fd489919-8291-11ed-96da-9ecacd5d4c57.xml\n",
      "Image:C:\\Users\\97798\\Downloads\\ODproject\\Tensorflow\\workspace\\images\\collectedimages\\livelong\\livelong.fe7d7fd9-8291-11ed-b82b-9ecacd5d4c57.jpg -> Annotation:C:/Users/97798/Downloads/ODproject/Tensorflow/workspace/images/collectedimages/livelong\\livelong.fe7d7fd9-8291-11ed-b82b-9ecacd5d4c57.xml\n",
      "Image:C:\\Users\\97798\\Downloads\\ODproject\\Tensorflow\\workspace\\images\\collectedimages\\livelong\\livelong.ffb56dc7-8291-11ed-8b9f-9ecacd5d4c57.jpg -> Annotation:C:/Users/97798/Downloads/ODproject/Tensorflow/workspace/images/collectedimages/livelong\\livelong.ffb56dc7-8291-11ed-8b9f-9ecacd5d4c57.xml\n",
      "Image:C:\\Users\\97798\\Downloads\\ODproject\\Tensorflow\\workspace\\images\\collectedimages\\thankyou\\thankyou.f3c47039-8291-11ed-ac08-9ecacd5d4c57.jpg -> Annotation:C:/Users/97798/Downloads/ODproject/Tensorflow/workspace/images/collectedimages/thankyou\\thankyou.f3c47039-8291-11ed-ac08-9ecacd5d4c57.xml\n",
      "Image:C:\\Users\\97798\\Downloads\\ODproject\\Tensorflow\\workspace\\images\\collectedimages\\thankyou\\thankyou.f4fbd61c-8291-11ed-85c1-9ecacd5d4c57.jpg -> Annotation:C:/Users/97798/Downloads/ODproject/Tensorflow/workspace/images/collectedimages/thankyou\\thankyou.f4fbd61c-8291-11ed-85c1-9ecacd5d4c57.xml\n",
      "Image:C:\\Users\\97798\\Downloads\\ODproject\\Tensorflow\\workspace\\images\\collectedimages\\thankyou\\thankyou.f3c47039-8291-11ed-ac08-9ecacd5d4c57.jpg -> Annotation:C:/Users/97798/Downloads/ODproject/Tensorflow/workspace/images/collectedimages/thankyou\\thankyou.f3c47039-8291-11ed-ac08-9ecacd5d4c57.xml\n",
      "Image:C:\\Users\\97798\\Downloads\\ODproject\\Tensorflow\\workspace\\images\\collectedimages\\thankyou\\thankyou.f28e2e09-8291-11ed-9e8f-9ecacd5d4c57.jpg -> Annotation:C:/Users/97798/Downloads/ODproject/Tensorflow/workspace/images/collectedimages/thankyou\\thankyou.f28e2e09-8291-11ed-9e8f-9ecacd5d4c57.xml\n",
      "Image:C:\\Users\\97798\\Downloads\\ODproject\\Tensorflow\\workspace\\images\\collectedimages\\thankyou\\thankyou.f3c47039-8291-11ed-ac08-9ecacd5d4c57.jpg -> Annotation:C:/Users/97798/Downloads/ODproject/Tensorflow/workspace/images/collectedimages/thankyou\\thankyou.f3c47039-8291-11ed-ac08-9ecacd5d4c57.xml\n",
      "Image:C:\\Users\\97798\\Downloads\\ODproject\\Tensorflow\\workspace\\images\\collectedimages\\thankyou\\thankyou.f768e8c7-8291-11ed-a2c9-9ecacd5d4c57.jpg -> Annotation:C:/Users/97798/Downloads/ODproject/Tensorflow/workspace/images/collectedimages/thankyou\\thankyou.f768e8c7-8291-11ed-a2c9-9ecacd5d4c57.xml\n",
      "Image:C:\\Users\\97798\\Downloads\\ODproject\\Tensorflow\\workspace\\images\\collectedimages\\thankyou\\thankyou.f6335d58-8291-11ed-ac93-9ecacd5d4c57.jpg -> Annotation:C:/Users/97798/Downloads/ODproject/Tensorflow/workspace/images/collectedimages/thankyou\\thankyou.f6335d58-8291-11ed-ac93-9ecacd5d4c57.xml\n",
      "Image:C:\\Users\\97798\\Downloads\\ODproject\\Tensorflow\\workspace\\images\\collectedimages\\thumbsdown\\thumbsdown.e9049e4f-8291-11ed-890c-9ecacd5d4c57.jpg -> Annotation:C:/Users/97798/Downloads/ODproject/Tensorflow/workspace/images/collectedimages/thumbsdown\\thumbsdown.e9049e4f-8291-11ed-890c-9ecacd5d4c57.xml\n",
      "Image:C:\\Users\\97798\\Downloads\\ODproject\\Tensorflow\\workspace\\images\\collectedimages\\thumbsdown\\thumbsdown.ea3bec79-8291-11ed-a868-9ecacd5d4c57.jpg -> Annotation:C:/Users/97798/Downloads/ODproject/Tensorflow/workspace/images/collectedimages/thumbsdown\\thumbsdown.ea3bec79-8291-11ed-a868-9ecacd5d4c57.xml\n",
      "Image:C:\\Users\\97798\\Downloads\\ODproject\\Tensorflow\\workspace\\images\\collectedimages\\thumbsdown\\thumbsdown.eb783b6d-8291-11ed-84fc-9ecacd5d4c57.jpg -> Annotation:C:/Users/97798/Downloads/ODproject/Tensorflow/workspace/images/collectedimages/thumbsdown\\thumbsdown.eb783b6d-8291-11ed-84fc-9ecacd5d4c57.xml\n",
      "Image:C:\\Users\\97798\\Downloads\\ODproject\\Tensorflow\\workspace\\images\\collectedimages\\thumbsdown\\thumbsdown.ecada181-8291-11ed-94a6-9ecacd5d4c57.jpg -> Annotation:C:/Users/97798/Downloads/ODproject/Tensorflow/workspace/images/collectedimages/thumbsdown\\thumbsdown.ecada181-8291-11ed-94a6-9ecacd5d4c57.xml\n",
      "Image:C:\\Users\\97798\\Downloads\\ODproject\\Tensorflow\\workspace\\images\\collectedimages\\thumbsdown\\thumbsdown.ede3ab5d-8291-11ed-b892-9ecacd5d4c57.jpg -> Annotation:C:/Users/97798/Downloads/ODproject/Tensorflow/workspace/images/collectedimages/thumbsdown\\thumbsdown.ede3ab5d-8291-11ed-b892-9ecacd5d4c57.xml\n",
      "Image:C:\\Users\\97798\\Downloads\\ODproject\\Tensorflow\\workspace\\images\\collectedimages\\thumbs\\thumbs.d07f4dfc-8291-11ed-87d9-9ecacd5d4c57.jpg -> Annotation:C:/Users/97798/Downloads/ODproject/Tensorflow/workspace/images/collectedimages/thumbs\\thumbs.d07f4dfc-8291-11ed-87d9-9ecacd5d4c57.xml\n",
      "Image:C:\\Users\\97798\\Downloads\\ODproject\\Tensorflow\\workspace\\images\\collectedimages\\thumbs\\thumbs.df847cf2-8291-11ed-a3c6-9ecacd5d4c57.jpg -> Annotation:C:/Users/97798/Downloads/ODproject/Tensorflow/workspace/images/collectedimages/thumbs\\thumbs.df847cf2-8291-11ed-a3c6-9ecacd5d4c57.xml\n",
      "Image:C:\\Users\\97798\\Downloads\\ODproject\\Tensorflow\\workspace\\images\\collectedimages\\thumbs\\thumbs.e0baa74a-8291-11ed-b5ec-9ecacd5d4c57.jpg -> Annotation:C:/Users/97798/Downloads/ODproject/Tensorflow/workspace/images/collectedimages/thumbs\\thumbs.e0baa74a-8291-11ed-b5ec-9ecacd5d4c57.xml\n",
      "Image:C:\\Users\\97798\\Downloads\\ODproject\\Tensorflow\\workspace\\images\\collectedimages\\thumbs\\thumbs.e1f24128-8291-11ed-9e9a-9ecacd5d4c57.jpg -> Annotation:C:/Users/97798/Downloads/ODproject/Tensorflow/workspace/images/collectedimages/thumbs\\thumbs.e1f24128-8291-11ed-9e9a-9ecacd5d4c57.xml\n",
      "Image:C:\\Users\\97798\\Downloads\\ODproject\\Tensorflow\\workspace\\images\\collectedimages\\thumbs\\thumbs.e45e4458-8291-11ed-ab9a-9ecacd5d4c57.jpg -> Annotation:C:/Users/97798/Downloads/ODproject/Tensorflow/workspace/images/collectedimages/thumbs\\thumbs.e45e4458-8291-11ed-ab9a-9ecacd5d4c57.xml\n",
      "Image:C:\\Users\\97798\\Downloads\\ODproject\\Tensorflow\\workspace\\images\\collectedimages\\thumbs\\thumbs.e3270363-8291-11ed-9fd2-9ecacd5d4c57.jpg -> Annotation:C:/Users/97798/Downloads/ODproject/Tensorflow/workspace/images/collectedimages/thumbs\\thumbs.e3270363-8291-11ed-9fd2-9ecacd5d4c57.xml\n"
     ]
    }
   ],
   "source": [
    " !cd {LABELING_PATH} && python labelImg.py"
   ]
  },
  {
   "cell_type": "code",
   "execution_count": null,
   "id": "04a4354e",
   "metadata": {},
   "outputs": [],
   "source": []
  }
 ],
 "metadata": {
  "kernelspec": {
   "display_name": "tfod",
   "language": "python",
   "name": "tfod"
  },
  "language_info": {
   "codemirror_mode": {
    "name": "ipython",
    "version": 3
   },
   "file_extension": ".py",
   "mimetype": "text/x-python",
   "name": "python",
   "nbconvert_exporter": "python",
   "pygments_lexer": "ipython3",
   "version": "3.9.13"
  }
 },
 "nbformat": 4,
 "nbformat_minor": 5
}
